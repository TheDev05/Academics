{
  "nbformat": 4,
  "nbformat_minor": 0,
  "metadata": {
    "colab": {
      "provenance": [],
      "gpuType": "T4",
      "include_colab_link": true
    },
    "kernelspec": {
      "name": "python3",
      "display_name": "Python 3"
    },
    "language_info": {
      "name": "python"
    },
    "accelerator": "GPU"
  },
  "cells": [
    {
      "cell_type": "markdown",
      "metadata": {
        "id": "view-in-github",
        "colab_type": "text"
      },
      "source": [
        "<a href=\"https://colab.research.google.com/github/TheDev05/Semester_7/blob/main/9th%20Aug.ipynb\" target=\"_parent\"><img src=\"https://colab.research.google.com/assets/colab-badge.svg\" alt=\"Open In Colab\"/></a>"
      ]
    },
    {
      "cell_type": "code",
      "source": [
        "import numpy as np\n",
        "from google.colab.patches import cv2_imshow\n",
        "import cv2\n",
        "# reading images from folder using imread\n",
        "image = cv2.imread('/content/drive/MyDrive/Colab Notebooks/Images/Bill Gates.jpg')\n",
        "# image = cv2.cvtColor(image, cv2.COLOR_BGR2RGB)\n",
        "cv2_imshow(image)"
      ],
      "metadata": {
        "id": "I3lwin5Pin3F"
      },
      "execution_count": null,
      "outputs": []
    },
    {
      "cell_type": "code",
      "source": [
        "!pip install face_recognition\n",
        "import cv2\n",
        "import numpy as np\n",
        "import face_recognition\n",
        "import os"
      ],
      "metadata": {
        "id": "_twjsPgKtS17"
      },
      "execution_count": null,
      "outputs": []
    },
    {
      "cell_type": "code",
      "source": [
        "\n",
        "# importing images\n",
        "path = '/content/drive/MyDrive/Colab Notebooks/Images/'\n",
        "\n",
        "# list of images\n",
        "images = []\n",
        "\n",
        "# pathing list of images in folder\n",
        "myList = os.listdir(path)\n",
        "\n",
        "# importing images one by one\n",
        "for cl in myList:\n",
        "    curImg = cv2.imread(f'{path}/{cl}')  # reading images from path folder cl is name of image\n",
        "    images.append(curImg)\n",
        "\n",
        "# print(len(encodeListKnown))\n",
        "print('Encoding Complete')\n"
      ],
      "metadata": {
        "colab": {
          "base_uri": "https://localhost:8080/"
        },
        "id": "isihf7wftLmQ",
        "outputId": "6e4c182f-b166-431a-a88f-736c0cef70ce"
      },
      "execution_count": null,
      "outputs": [
        {
          "output_type": "stream",
          "name": "stdout",
          "text": [
            "Encoding Complete\n"
          ]
        }
      ]
    },
    {
      "cell_type": "code",
      "source": [
        "import matplotlib.pyplot as plt\n",
        "painting=plt.imread('/content/drive/MyDrive/Colab Notebooks/Images/Bill Gates.jpg')\n",
        "print(painting.shape)\n",
        "print(\"The image consists of %i pixels\" % (painting.shape[0] * painting.shape[1]))\n",
        "plt.imshow(painting);"
      ],
      "metadata": {
        "id": "flMSFVP-zbhY"
      },
      "execution_count": null,
      "outputs": []
    },
    {
      "cell_type": "markdown",
      "source": [
        "Explain Six points in 1st Experiment:\n",
        "\n",
        "1.Acquisition\n",
        "\n",
        "2.PreProcessing\n",
        "\n",
        "3.Image Segmentation\n",
        "\n",
        "4.Feature Extraction\n",
        "\n",
        "5.Classification\n",
        "\n",
        "6.Performance\n"
      ],
      "metadata": {
        "id": "kVeinEFzm7vy"
      }
    },
    {
      "cell_type": "code",
      "source": [
        "from google.colab import drive\n",
        "drive.mount('/content/drive')"
      ],
      "metadata": {
        "id": "URg-MopWxnkl"
      },
      "execution_count": null,
      "outputs": []
    },
    {
      "cell_type": "markdown",
      "source": [
        "1. Acquisition:\n",
        "\n",
        "What Is Data Acquisition (DAQ)?\n",
        "\n",
        "Data acquisition is the process of taking measurements of real-world physical occurrences using signals and digitizing them so that a computer and software may alter them.\n",
        "\n",
        "What Is Data Acquisition in Machine Learning?\n",
        "\n",
        "To save, clean, preprocess, and utilize data for other mechanisms, it must first be acquired from relevant sources. It is the procedure of locating relevant business data, formatting the information into the necessary business form, and loading the data into the specified system.\n",
        "\n",
        "Without high-quality data and data cleaning, even the best machine-learning algorithms will not work correctly. Furthermore, because, in contrast to machine learning, deep learning techniques automatically generate features, they call for enormous amounts of data. Otherwise, there would be garbage coming in and going out. Consequently, gathering data is a crucial component."
      ],
      "metadata": {
        "id": "MYmGPcwfqR_q"
      }
    },
    {
      "cell_type": "markdown",
      "source": [
        "2. Pre-processing\n",
        "\n",
        "Data Preprocessing in Machine learning:\n",
        "\n",
        "Data preprocessing is a process of preparing the raw data and making it suitable for a machine learning model. It is the first and crucial step while creating a machine learning model.\n",
        "\n",
        "When creating a machine learning project, it is not always a case that we come across the clean and formatted data. And while doing any operation with data, it is mandatory to clean it and put in a formatted way. So for this, we use data preprocessing task.\n",
        "\n",
        "Why do we need Data Preprocessing?\n",
        "\n",
        "A real-world data generally contains noises, missing values, and maybe in an unusable format which cannot be directly used for machine learning models. Data preprocessing is required tasks for cleaning the data and making it suitable for a machine learning model which also increases the accuracy and efficiency of a machine learning model.\n",
        "\n",
        "It involves below steps:\n",
        "\n",
        "a. Getting the dataset\n",
        "\n",
        "b. Importing libraries\n",
        "\n",
        "c. Importing datasets\n",
        "\n",
        "d. Finding Missing Data\n",
        "\n",
        "e. Encoding Categorical Data\n",
        "\n",
        "f. Splitting dataset into training and test set\n",
        "\n",
        "g. Feature scaling"
      ],
      "metadata": {
        "id": "1U17pSaxqdp3"
      }
    },
    {
      "cell_type": "markdown",
      "source": [
        "3. Image Segmentation:\n",
        "\n",
        "What is image segmentation?\n",
        "\n",
        "Image segmentation is the process of individually identifying and labeling every pixel in an image, where each pixel having the same label shares certain characteristics. It can detect an object at a granular level and it can identify the shape of that object also. It is an advanced and more accurate way of detecting an object's edge and shape detection.\n",
        "\n",
        "How does image segmentation work?\n",
        "\n",
        "Image segmentation divides an image into different partitions known as segments. This collection of segments are represented by a mask or a labeled image. In this way, we can process only the important segments instead of the entire image.\n",
        "\n",
        "Why do we need image segmentation?\n",
        "\n",
        "Image segmentation is being used in many different fields. One of the great examples is the medical field. Image segmentation can be used to determine damaged cells in a medical image. Sometimes we not only need the object's position but we need the shape of that particular object to further process. Cancer can be cured if we can identify cancer cells at an early stage. So by using image segmentation we can identify cancer cells as quickly as possible and save many lives."
      ],
      "metadata": {
        "id": "zjwc6ezsq6da"
      }
    },
    {
      "cell_type": "code",
      "source": [
        "# Pseudo-code\n",
        "# import library\n",
        "# load dataset\n",
        "# pre-process the image\n",
        "# feature extraction using specific techniques\n",
        "# split data in training and testing dataset\n",
        "# train classifier using extracted features and labels\n",
        "# Evalaute the performanxe of the classifier on the training set\n",
        "# compare ther perfromance of diff techniques\n",
        "# repeate 4-8 for other techniquies\n",
        "# document the observation and conclusion"
      ],
      "metadata": {
        "id": "qz2oA7xGm7O7"
      },
      "execution_count": null,
      "outputs": []
    },
    {
      "cell_type": "markdown",
      "source": [
        "15-20 Computer Vision working pricn\n"
      ],
      "metadata": {
        "id": "PzDSK5gsx480"
      }
    },
    {
      "cell_type": "code",
      "source": [],
      "metadata": {
        "id": "V8DrrxlLx4pM"
      },
      "execution_count": null,
      "outputs": []
    }
  ]
}